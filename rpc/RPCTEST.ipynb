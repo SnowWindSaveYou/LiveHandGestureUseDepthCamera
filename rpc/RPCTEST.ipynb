{
 "cells": [
  {
   "cell_type": "code",
   "execution_count": 1,
   "metadata": {},
   "outputs": [],
   "source": [
    "import grpc\n",
    "import enum\n",
    "import importlib"
   ]
  },
  {
   "cell_type": "code",
   "execution_count": 5,
   "metadata": {},
   "outputs": [],
   "source": [
    "import py_proto.hand_pb2 as hand_pb2\n",
    "import py_proto.hand_pb2_grpc as hand_pb2_grpc\n"
   ]
  },
  {
   "cell_type": "code",
   "execution_count": 3,
   "metadata": {},
   "outputs": [],
   "source": [
    "# import handExcutor"
   ]
  },
  {
   "cell_type": "code",
   "execution_count": 4,
   "metadata": {},
   "outputs": [],
   "source": [
    "# importlib.reload(handExcutor)"
   ]
  },
  {
   "cell_type": "code",
   "execution_count": 6,
   "metadata": {},
   "outputs": [],
   "source": [
    "\n",
    "class MPHandLandmark(enum.IntEnum):\n",
    "    Wrist = 0\n",
    "    # 拇指\n",
    "    ThumbCMC = 1\n",
    "    ThumbMCP = 2\n",
    "    ThumbDIP = 3\n",
    "    ThumbTIP = 4\n",
    "    #食指\n",
    "    IndexMCP = 5\n",
    "    IndexPIP = 6\n",
    "    IndexDIP = 7\n",
    "    IndexTIP = 8\n",
    "    #中指\n",
    "    MiddleMCP = 9\n",
    "    MiddlePIP = 10\n",
    "    MiddleDIP = 11\n",
    "    MiddleTIP = 12\n",
    "    #无名指\n",
    "    RingMCP = 13\n",
    "    RingPIP = 14\n",
    "    RingDIP = 15\n",
    "    RingTIP = 16\n",
    "    #小拇指\n",
    "    PinkyMCP = 17\n",
    "    PinkyPIP = 18\n",
    "    PinkyDIP = 19\n",
    "    PinkyTIP = 20\n",
    "    \n",
    "handTestData = [ [i,i+10,i+20] for i in range(21)]"
   ]
  },
  {
   "cell_type": "code",
   "execution_count": 11,
   "metadata": {},
   "outputs": [],
   "source": [
    "class HandExcutor:\n",
    "    def __init__(self,host=\"localhost\",port=2333):\n",
    "        self.connection  = grpc.insecure_channel(\"%s:%d\"%(host,port))\n",
    "        self.client = hand_pb2_grpc.HandServiceStub(channel=self.connection)\n",
    "    \n",
    "    def pushHand(self,mpHand,commandId):\n",
    "        if mpHand==None or len(mpHand)==0:\n",
    "            return\n",
    "        protoRequest = hand_pb2.ProtoHandRequest()\n",
    "        protoRequest.command.commandId = commandId\n",
    "\n",
    "        handsReq = protoRequest.hands.add()\n",
    "        self.setProtoPoint3(handsReq.Wrist,mpHand[0])\n",
    "        for i in range(1,21):\n",
    "            mark = MPHandLandmark(i)\n",
    "            self.setProtoPoint3(getattr(handsReq,mark.name),mpHand[i])\n",
    "        self.client.PushHand(protoRequest)\n",
    "        pass\n",
    "    \n",
    "    \n",
    "    @staticmethod\n",
    "    def setProtoPoint3(proto,point3):\n",
    "        proto.x = point3[0]\n",
    "        proto.y = point3[1]\n",
    "        proto.z = point3[2]"
   ]
  },
  {
   "cell_type": "code",
   "execution_count": 12,
   "metadata": {},
   "outputs": [],
   "source": [
    "handClient = HandExcutor()"
   ]
  },
  {
   "cell_type": "code",
   "execution_count": 13,
   "metadata": {},
   "outputs": [],
   "source": [
    "handClient.pushHand(handTestData,0)"
   ]
  },
  {
   "cell_type": "code",
   "execution_count": 11,
   "metadata": {},
   "outputs": [],
   "source": [
    "protoRequest = hand_pb2.ProtoHandRequest()\n",
    "protoRequest.command.commandId = 233"
   ]
  },
  {
   "cell_type": "code",
   "execution_count": 9,
   "metadata": {},
   "outputs": [
    {
     "data": {
      "text/plain": []
     },
     "execution_count": 9,
     "metadata": {},
     "output_type": "execute_result"
    }
   ],
   "source": []
  },
  {
   "cell_type": "code",
   "execution_count": null,
   "metadata": {},
   "outputs": [],
   "source": []
  }
 ],
 "metadata": {
  "interpreter": {
   "hash": "ac20bcf7b5fdc55cedf539030cdd4ec172c3fd1b3c8ddeac8a1f659b58283dc9"
  },
  "kernelspec": {
   "display_name": "Python 3.8.8 64-bit ('base': conda)",
   "language": "python",
   "name": "python3"
  },
  "language_info": {
   "codemirror_mode": {
    "name": "ipython",
    "version": 3
   },
   "file_extension": ".py",
   "mimetype": "text/x-python",
   "name": "python",
   "nbconvert_exporter": "python",
   "pygments_lexer": "ipython3",
   "version": "3.8.8"
  },
  "orig_nbformat": 4
 },
 "nbformat": 4,
 "nbformat_minor": 2
}
