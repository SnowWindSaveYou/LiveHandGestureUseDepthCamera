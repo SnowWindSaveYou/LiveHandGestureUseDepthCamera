{
 "cells": [
  {
   "cell_type": "code",
   "execution_count": 1,
   "metadata": {},
   "outputs": [],
   "source": [
    "import os\n",
    "import numpy as np\n",
    "import scipy.io as scio\n",
    "\n",
    "import matplotlib.pyplot as plt\n",
    "%matplotlib inline\n",
    "\n",
    "import importlib"
   ]
  },
  {
   "cell_type": "code",
   "execution_count": 2,
   "metadata": {},
   "outputs": [],
   "source": [
    "import utils"
   ]
  },
  {
   "cell_type": "code",
   "execution_count": 8,
   "metadata": {},
   "outputs": [
    {
     "data": {
      "text/plain": [
       "<module 'utils.display' from 'e:\\\\Projects\\\\LiveGestureUseDepthCamera\\\\utils\\\\display.py'>"
      ]
     },
     "execution_count": 8,
     "metadata": {},
     "output_type": "execute_result"
    }
   ],
   "source": [
    "importlib.reload(utils.display)"
   ]
  },
  {
   "cell_type": "code",
   "execution_count": 3,
   "metadata": {},
   "outputs": [],
   "source": []
  },
  {
   "cell_type": "code",
   "execution_count": 4,
   "metadata": {},
   "outputs": [],
   "source": [
    "sample_correct = np.load(\"./data/sample.npy\")\n",
    "sample_error = np.load(\"./data/errsample.npy\")"
   ]
  },
  {
   "cell_type": "code",
   "execution_count": 9,
   "metadata": {},
   "outputs": [
    {
     "data": {
      "text/plain": [
       "<matplotlib.image.AxesImage at 0x276877a16d0>"
      ]
     },
     "execution_count": 9,
     "metadata": {},
     "output_type": "execute_result"
    },
    {
     "data": {
      "image/png": "[encoded data removed]",
      "text/plain": [
       "<Figure size 432x288 with 1 Axes>"
      ]
     },
     "metadata": {
      "needs_background": "light"
     },
     "output_type": "display_data"
    }
   ],
   "source": [
    "img_correct = utils.display.drawResult(sample_correct)\n",
    "plt.imshow(img_correct)"
   ]
  },
  {
   "cell_type": "code",
   "execution_count": 56,
   "metadata": {},
   "outputs": [
    {
     "data": {
      "text/plain": [
       "<matplotlib.image.AxesImage at 0x27688c4b0d0>"
      ]
     },
     "execution_count": 56,
     "metadata": {},
     "output_type": "execute_result"
    },
    {
     "data": {
      "image/png": "[encoded data removed]",
      "text/plain": [
       "<Figure size 432x288 with 1 Axes>"
      ]
     },
     "metadata": {
      "needs_background": "light"
     },
     "output_type": "display_data"
    }
   ],
   "source": [
    "img_error = utils.display.drawResult(sample_error)\n",
    "plt.imshow(img_error)"
   ]
  },
  {
   "cell_type": "code",
   "execution_count": 59,
   "metadata": {},
   "outputs": [],
   "source": [
    "FINGER_THUMB  = [0,1,2,3,4]\n",
    "FINGER_INDEX  = [0,5,6,7,8]\n",
    "FINGER_MIDDLE = [0,9,10,11,12]\n",
    "FINGER_RING   = [0,13,14,15,16]\n",
    "FINGER_PINKY  = [0,17,18,19,20]\n",
    "FINGERS = np.array([FINGER_THUMB,FINGER_INDEX, FINGER_MIDDLE, FINGER_RING,FINGER_PINKY ])\n",
    "\n",
    "def getCoord(a,b,c):\n",
    "    ab = b-a\n",
    "    ac = c-a\n",
    "    yd = np.cross(ab,ac)\n",
    "    y = yd/np.linalg.norm(yd)\n",
    "    x = ab/np.linalg.norm(ab)\n",
    "    zd = np.cross(x,y)\n",
    "    z = zd/np.linalg.norm(zd)\n",
    "    return np.array([x,y,z])\n",
    "def getHandCoord(landmark):\n",
    "    a = landmark[0]\n",
    "    b = landmark[5]\n",
    "    c = landmark[17]\n",
    "    return getCoord(a,b,c)\n",
    "def get3DAngle(a,b):\n",
    "    return (np.dot(a,b)/(np.linalg.norm(a)*np.linalg.norm(b)))\n",
    "def get3DCosAngle(a:np.ndarray,b:np.ndarray):\n",
    "    angle = np.arccos(get3DAngle(a,b))\n",
    "    return float(np.rad2deg(angle))\n",
    "\n",
    "def getFlexionExtensionAngleList(landmark):\n",
    "    angle_list = [None]*5\n",
    "    for i in range(5):\n",
    "        finger = FINGERS[i]\n",
    "        vecList = landmark[finger[1:]]-landmark[finger[:4]]\n",
    "        flexion_and_extension_angles = [\n",
    "            get3DCosAngle(vecList[0],vecList[1]),#∠MCPfe\n",
    "            get3DCosAngle(vecList[1],vecList[2]),#∠PIPfe\n",
    "            get3DCosAngle(vecList[2],vecList[3]),#∠DIPfe\n",
    "        ]\n",
    "        angle_list[i] = flexion_and_extension_angles\n",
    "    return angle_list\n",
    "def getAbductionAdductionAngleList(landmark):\n",
    "    angle_list = [None]*4\n",
    "    for i in range(4):\n",
    "        finger1 = FINGERS[i]\n",
    "        finger2 = FINGERS[i+1]\n",
    "        vec1 = landmark[finger1[1]]-landmark[0]\n",
    "        vec2 = landmark[finger2[1]]-landmark[0]\n",
    "        angle_list[i] = get3DCosAngle(vec1,vec2)\n",
    "    # angle_list[5] = \n",
    "    return angle_list"
   ]
  },
  {
   "cell_type": "code",
   "execution_count": 67,
   "metadata": {},
   "outputs": [
    {
     "data": {
      "text/plain": [
       "<matplotlib.image.AxesImage at 0x27689056100>"
      ]
     },
     "execution_count": 67,
     "metadata": {},
     "output_type": "execute_result"
    },
    {
     "data": {
      "image/png": "[encoded data removed]",
      "text/plain": [
       "<Figure size 432x288 with 1 Axes>"
      ]
     },
     "metadata": {
      "needs_background": "light"
     },
     "output_type": "display_data"
    }
   ],
   "source": [
    "sample_center=(sample_correct-(88,88,0))/(88,88,150)\n",
    "img_correct = utils.display.drawResult((sample_center+0.5)*100)\n",
    "plt.imshow(img_correct)"
   ]
  },
  {
   "cell_type": "code",
   "execution_count": 60,
   "metadata": {},
   "outputs": [],
   "source": [
    "coord = getHandCoord(sample_correct-(88,88,0))"
   ]
  },
  {
   "cell_type": "code",
   "execution_count": 54,
   "metadata": {},
   "outputs": [
    {
     "data": {
      "text/plain": [
       "[56.26778667328502, 12.131601813222378, 10.833922681364676, 15.487205976058034]"
      ]
     },
     "execution_count": 54,
     "metadata": {},
     "output_type": "execute_result"
    }
   ],
   "source": [
    "getAbductionAdductionAngleList(sample_error)"
   ]
  },
  {
   "cell_type": "code",
   "execution_count": 55,
   "metadata": {},
   "outputs": [
    {
     "data": {
      "text/plain": [
       "[[40.15681829628859, 69.8441337542581, 12.816996948071168],\n",
       " [35.58409633165486, 6.926220491809071, 6.748849191342782],\n",
       " [27.69774967573711, 30.13238434853596, 19.389501035417485],\n",
       " [19.311700189190663, 81.23164966195147, 91.53482721613977],\n",
       " [10.76378359019352, 106.71636443216664, 30.598481344079815]]"
      ]
     },
     "execution_count": 55,
     "metadata": {},
     "output_type": "execute_result"
    }
   ],
   "source": [
    "getFlexionExtensionAngleList(sample_error)"
   ]
  },
  {
   "cell_type": "code",
   "execution_count": null,
   "metadata": {},
   "outputs": [],
   "source": [
    "# https://doi.org/10.3389/frvir.2021.663618\n",
    "\n",
    "# AA =  abduction_and_adduction 外展内缩\n",
    "# FE = flexion_and_extension 屈伸 \n",
    "Thumb_CMC_AA = [45 ,0]\n",
    "Thumb_MCP_AA = [12,-7]\n",
    "\n",
    "Thumb_CMC_FE = [45,-20]\n",
    "Thumb_MCP_FE = [80 ,0]\n",
    "Thumb_IP_FE  = [90,-30]\n",
    "\n",
    "MCP_AA       = [15,-15]\n",
    "\n",
    "MCP_FE       = [90,-40]\n",
    "PIP_FE       = [130,0]\n",
    "DIP_FE       = [90,-30]\n"
   ]
  }
 ],
 "metadata": {
  "interpreter": {
   "hash": "ac20bcf7b5fdc55cedf539030cdd4ec172c3fd1b3c8ddeac8a1f659b58283dc9"
  },
  "kernelspec": {
   "display_name": "Python 3.8.8 64-bit ('base': conda)",
   "language": "python",
   "name": "python3"
  },
  "language_info": {
   "codemirror_mode": {
    "name": "ipython",
    "version": 3
   },
   "file_extension": ".py",
   "mimetype": "text/x-python",
   "name": "python",
   "nbconvert_exporter": "python",
   "pygments_lexer": "ipython3",
   "version": "3.8.8"
  },
  "orig_nbformat": 4
 },
 "nbformat": 4,
 "nbformat_minor": 2
}
