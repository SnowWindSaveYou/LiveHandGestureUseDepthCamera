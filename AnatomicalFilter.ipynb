{
 "cells": [
  {
   "cell_type": "code",
   "execution_count": 268,
   "metadata": {},
   "outputs": [],
   "source": [
    "import os\n",
    "import numpy as np\n",
    "import scipy.io as scio\n",
    "import cv2\n",
    "import matplotlib.pyplot as plt\n",
    "%matplotlib inline\n",
    "\n",
    "import importlib"
   ]
  },
  {
   "cell_type": "code",
   "execution_count": 3,
   "metadata": {},
   "outputs": [],
   "source": [
    "import utils"
   ]
  },
  {
   "cell_type": "code",
   "execution_count": 4,
   "metadata": {},
   "outputs": [
    {
     "data": {
      "text/plain": [
       "<module 'utils.display' from 'e:\\\\Projects\\\\LiveGestureUseDepthCamera\\\\utils\\\\display.py'>"
      ]
     },
     "execution_count": 4,
     "metadata": {},
     "output_type": "execute_result"
    }
   ],
   "source": [
    "importlib.reload(utils.display)"
   ]
  },
  {
   "cell_type": "code",
   "execution_count": 220,
   "metadata": {},
   "outputs": [],
   "source": [
    "\n",
    "FINGER_COLORS_CC = [\n",
    "    [  255,255,255   ],\n",
    "    # 1\n",
    "    [  255,50,50  ],\n",
    "    [  255,100,100 ],\n",
    "    [  255,150,150 ],\n",
    "    [  255,200,200 ],\n",
    "    # 2\n",
    "    [  255,255,50  ],\n",
    "    [  255,255,100  ],\n",
    "    [  255,255,150  ],\n",
    "    [  255,255,200   ],\n",
    "    #3\n",
    "    [  50,255,50 ],\n",
    "    [  100,255,100 ],\n",
    "    [  150,255,150 ],\n",
    "    [  200,255,200 ],\n",
    "    #4\n",
    "    [  50,255,255  ],\n",
    "    [  100,255,255  ],\n",
    "    [  150,255,255   ],\n",
    "    [  200,255,255  ],\n",
    "    #5\n",
    "    [  50,50,255  ],\n",
    "    [  100,100,255  ],\n",
    "    [  150,150,255  ],\n",
    "    [  200,200,255   ]]"
   ]
  },
  {
   "cell_type": "code",
   "execution_count": 221,
   "metadata": {},
   "outputs": [],
   "source": [
    "sample_correct = np.load(\"./data/sample.npy\")\n",
    "sample_error = np.load(\"./data/errsample.npy\")"
   ]
  },
  {
   "cell_type": "code",
   "execution_count": 222,
   "metadata": {},
   "outputs": [
    {
     "data": {
      "text/plain": [
       "<matplotlib.image.AxesImage at 0x29fa08e0ac0>"
      ]
     },
     "execution_count": 222,
     "metadata": {},
     "output_type": "execute_result"
    },
    {
     "data": {
      "image/png": "[encoded data removed]",
      "text/plain": [
       "<Figure size 432x288 with 1 Axes>"
      ]
     },
     "metadata": {
      "needs_background": "light"
     },
     "output_type": "display_data"
    }
   ],
   "source": [
    "img_correct = utils.display.drawResult(sample_correct,colorMap= FINGER_COLORS_CC)\n",
    "plt.imshow(img_correct)"
   ]
  },
  {
   "cell_type": "code",
   "execution_count": 296,
   "metadata": {},
   "outputs": [
    {
     "data": {
      "text/plain": [
       "<matplotlib.image.AxesImage at 0x29fa0b06370>"
      ]
     },
     "execution_count": 296,
     "metadata": {},
     "output_type": "execute_result"
    },
    {
     "data": {
      "image/png": "[encoded data removed]",
      "text/plain": [
       "<Figure size 432x288 with 1 Axes>"
      ]
     },
     "metadata": {
      "needs_background": "light"
     },
     "output_type": "display_data"
    }
   ],
   "source": [
    "img_error = utils.display.drawResult(sample_error,colorMap= FINGER_COLORS_CC)\n",
    "plt.imshow(img_error)"
   ]
  },
  {
   "cell_type": "code",
   "execution_count": 301,
   "metadata": {},
   "outputs": [],
   "source": [
    "FINGER_THUMB  = [0,1,2,3,4]\n",
    "FINGER_INDEX  = [0,5,6,7,8]\n",
    "FINGER_MIDDLE = [0,9,10,11,12]\n",
    "FINGER_RING   = [0,13,14,15,16]\n",
    "FINGER_PINKY  = [0,17,18,19,20]\n",
    "FINGERS = np.array([FINGER_THUMB,FINGER_INDEX, FINGER_MIDDLE, FINGER_RING,FINGER_PINKY ])\n",
    "def drawAngle(image,landmark, feangleList,AbductionAdductionAngleList=None):\n",
    "    for i in range(5):\n",
    "        for j in range(3):\n",
    "            pos = landmark[FINGERS[i][j+1]]\n",
    "            cv2.putText(image,str(np.round(feangleList[i][j],2)),np.int32(pos[:2]),0,0.3,(255,255,255),1)\n",
    "    if AbductionAdductionAngleList is not None:\n",
    "        cv2.putText(image,str(np.round(AbductionAdductionAngleList[0],2)),np.int32(landmark[1][:2]),0,0.3,(255,0,0),1)\n",
    "        cv2.putText(image,str(np.round(AbductionAdductionAngleList[1],2)),np.int32(landmark[5][:2]),0,0.3,(255,0,0),1)\n",
    "        cv2.putText(image,str(np.round(AbductionAdductionAngleList[2],2)),np.int32(landmark[9][:2]),0,0.3,(255,0,0),1)\n",
    "        cv2.putText(image,str(np.round(AbductionAdductionAngleList[3],2)),np.int32(landmark[13][:2]),0,0.3,(255,0,0),1)\n",
    "        cv2.putText(image,str(np.round(AbductionAdductionAngleList[4],2)),np.int32(landmark[2][:2]),0,0.3,(255,0,0),1)\n",
    "    return image\n",
    "def getCoord(a,b,c):\n",
    "    ab = b-a\n",
    "    ac = c-a\n",
    "    yd = np.cross(ab,ac)\n",
    "    y = yd/np.linalg.norm(yd)\n",
    "    x = ab/np.linalg.norm(ab)\n",
    "    zd = np.cross(x,y)\n",
    "    z = zd/np.linalg.norm(zd)\n",
    "    return np.array([x,y,z])\n",
    "def getHandCoord(landmark):\n",
    "    a = landmark[0]\n",
    "    b = landmark[5]\n",
    "    c = landmark[17]\n",
    "    return getCoord(a,b,c)\n",
    "\n",
    "def convertToHandCoord(landmark):\n",
    "    coord = getHandCoord(landmark)\n",
    "    invCoord = np.linalg.inv(coord)\n",
    "    landmarkHandCoord = np.matmul(landmark,invCoord)\n",
    "    return landmarkHandCoord\n",
    "\n",
    "def get3DCosAngle(a,b):\n",
    "    return np.arccos((np.dot(a,b)/(np.linalg.norm(a)*np.linalg.norm(b))))\n",
    "\n",
    "def get3DAngleDeg(a:np.ndarray,b:np.ndarray,axis:np.ndarray=None):\n",
    "    angle = np.rad2deg(get3DCosAngle(a,b))\n",
    "    if axis is not None:\n",
    "        axb = np.cross(a,b)\n",
    "        axb /= np.linalg.norm(axb)\n",
    "        dirc = np.dot(axis,axb)\n",
    "        if dirc<0:\n",
    "            angle = -angle\n",
    "    return float(angle)\n",
    "\n",
    "def get3DAngleDegByPlane(vec:np.ndarray,pa:np.ndarray,pb:np.ndarray):\n",
    "    pab = np.cross(pa,pb) \n",
    "    angle = 90-np.rad2deg(get3DCosAngle(vec,pab))\n",
    "    if np.dot(vec,pab)<0:\n",
    "        angle = -angle\n",
    "\n",
    "    return angle\n",
    "\n",
    "def getFlexionExtensionAngleList(landmark):\n",
    "    angle_list = [None]*5\n",
    "    thumbAxis =  landmark[5] -landmark[1]\n",
    "    thumbAxis/= np.linalg.norm(thumbAxis)\n",
    "    thumb = FINGERS[0]\n",
    "    vecList = landmark[thumb[1:]]-landmark[thumb[:4]]\n",
    "    thumbCMC =  get3DAngleDegByPlane(vecList[1],landmark[5]-landmark[0],vecList[0]) \n",
    "    thumbMCP = get3DAngleDeg(vecList[1],vecList[2],thumbAxis)\n",
    "    thumbIP = get3DAngleDeg(vecList[2],vecList[3],thumbAxis)\n",
    "    angle_list[0] =[thumbCMC,thumbMCP,thumbIP]\n",
    "    \n",
    "    handAxis =  landmark[17]-landmark[5]\n",
    "    handAxis/= np.linalg.norm(handAxis)\n",
    "    for i in range(1,5):\n",
    "        finger = FINGERS[i]\n",
    "        vecList = landmark[finger[1:]]-landmark[finger[:4]]\n",
    "        for v in range(3):\n",
    "            vecList[v]/= np.linalg.norm(vecList[v])\n",
    "        angleMCP = get3DAngleDeg(vecList[0],vecList[1],handAxis)\n",
    "        anglePIP = get3DAngleDeg(vecList[1],vecList[2],handAxis)\n",
    "        angleDIP = get3DAngleDeg(vecList[2],vecList[3],handAxis)\n",
    "        angle_list[i] = [angleMCP,anglePIP,angleDIP]\n",
    "    return angle_list\n",
    "\n",
    "def getAbductionAdductionAngleList(landmark):\n",
    "    angle_list = [None]*5\n",
    "    axis = np.cross(landmark[5]-landmark[0],landmark[17]-landmark[0])\n",
    "    axis/= np.linalg.norm(axis)\n",
    "    for i in range(4):\n",
    "        finger1 = FINGERS[i]\n",
    "        finger2 = FINGERS[i+1]\n",
    "        vec1 = landmark[finger1[1]]-landmark[0]\n",
    "        vec2 = landmark[finger2[1]]-landmark[0]\n",
    "        angle_list[i] = get3DAngleDeg(vec1,vec2,axis)\n",
    "    # angle_list[5] = \n",
    "    \n",
    "    \n",
    "    v1 = landmark[2]-landmark[1]\n",
    "    v2 = landmark[5]-landmark[1]\n",
    "    axis = np.cross(v1,v2)\n",
    "    angle_list[4] = get3DAngleDeg(v1,v2,axis)\n",
    "    \n",
    "    return angle_list"
   ]
  },
  {
   "cell_type": "code",
   "execution_count": 302,
   "metadata": {},
   "outputs": [
    {
     "data": {
      "text/plain": [
       "[[37.314444552644005, -7.34428186003337, -12.529728992903495],\n",
       " [-16.313920466153053, 6.108609429811095, -6.677550111294907],\n",
       " [9.229379435893417, 3.662187679031558, -1.1729332162532904],\n",
       " [5.269551887778151, 3.687305032233784, -8.961497146109378],\n",
       " [-14.436865291610738, 5.849619112962991, -7.789778736492644]]"
      ]
     },
     "execution_count": 302,
     "metadata": {},
     "output_type": "execute_result"
    }
   ],
   "source": [
    "getFlexionExtensionAngleList(sample_correct)"
   ]
  },
  {
   "cell_type": "code",
   "execution_count": 303,
   "metadata": {},
   "outputs": [
    {
     "data": {
      "text/plain": [
       "[85.59226084094422,\n",
       " 18.507063508784817,\n",
       " 13.586666403028522,\n",
       " 13.9768961134187,\n",
       " 40.60246087538546]"
      ]
     },
     "execution_count": 303,
     "metadata": {},
     "output_type": "execute_result"
    }
   ],
   "source": [
    "getAbductionAdductionAngleList(sample_correct)"
   ]
  },
  {
   "cell_type": "code",
   "execution_count": 236,
   "metadata": {},
   "outputs": [],
   "source": [
    "\n",
    "rz = 0.1\n",
    "rotateMatZ = np.eye(4)\n",
    "rotateMatZ[:2,:2] = np.array([\n",
    "    [np.cos(rz),-np.sin(rz)],\n",
    "    [np.sin(rz),np.cos(rz)]\n",
    "])\n",
    "rx = 0.1\n",
    "rotateMatX = np.eye(4)\n",
    "rotateMatX[1:3,1:3] = np.array([\n",
    "    [np.cos(rx),-np.sin(rx)],\n",
    "    [np.sin(rx),np.cos(rx)]\n",
    "])\n",
    "ry = 0.1\n",
    "rotateMatY = np.eye(4)\n",
    "rotateMatY[[0,2],[[0,0],[2,2]]]  = np.array([\n",
    "    [np.cos(ry),-np.sin(ry)],\n",
    "    [np.sin(ry),np.cos(ry)]\n",
    "]).T\n",
    "rotateMat = np.matmul(np.matmul(rotateMatZ,rotateMatX),rotateMatY)"
   ]
  },
  {
   "cell_type": "code",
   "execution_count": 313,
   "metadata": {},
   "outputs": [
    {
     "name": "stdout",
     "output_type": "stream",
     "text": [
      "[85.59226084094422, 18.507063508784817, 13.586666403028522, 13.9768961134187, 40.60246087538546]\n"
     ]
    },
    {
     "data": {
      "text/plain": [
       "<matplotlib.image.AxesImage at 0x29fa0e4a190>"
      ]
     },
     "execution_count": 313,
     "metadata": {},
     "output_type": "execute_result"
    },
    {
     "data": {
      "image/png": "[encoded data removed]",
      "text/plain": [
       "<Figure size 432x288 with 1 Axes>"
      ]
     },
     "metadata": {
      "needs_background": "light"
     },
     "output_type": "display_data"
    }
   ],
   "source": [
    "image = np.zeros((200,200,3), np.uint8)\n",
    "sample_center=(sample_correct-(88,88,0))/(88,88,150)\n",
    "sample_center = utils.math.applyTrans(sample_center,rotateMat)\n",
    "landmark = (sample_center+0.5)*100 +50\n",
    "feangleList = getFlexionExtensionAngleList(sample_correct)\n",
    "aaanglelist = getAbductionAdductionAngleList(sample_correct)\n",
    "img_correct = utils.display.drawResult(landmark,image)\n",
    "img_correct = drawAngle(img_correct,landmark, feangleList,aaanglelist)\n",
    "print(aaanglelist)\n",
    "plt.imshow(img_correct)"
   ]
  },
  {
   "cell_type": "code",
   "execution_count": 238,
   "metadata": {},
   "outputs": [],
   "source": [
    "coord = getHandCoord(sample_correct-(88,88,0))"
   ]
  },
  {
   "cell_type": "code",
   "execution_count": 304,
   "metadata": {},
   "outputs": [
    {
     "data": {
      "text/plain": [
       "[85.59226084094422,\n",
       " 18.507063508784817,\n",
       " 13.586666403028522,\n",
       " 13.9768961134187,\n",
       " 40.60246087538546]"
      ]
     },
     "execution_count": 304,
     "metadata": {},
     "output_type": "execute_result"
    }
   ],
   "source": [
    "getAbductionAdductionAngleList(sample_correct)"
   ]
  },
  {
   "cell_type": "code",
   "execution_count": 305,
   "metadata": {},
   "outputs": [],
   "source": []
  },
  {
   "cell_type": "code",
   "execution_count": null,
   "metadata": {},
   "outputs": [],
   "source": [
    "# https://doi.org/10.3389/frvir.2021.663618\n",
    "\n",
    "# AA =  abduction_and_adduction 外展内缩\n",
    "# FE = flexion_and_extension 屈伸 \n",
    "Thumb_CMC_AA = [45 ,0]\n",
    "Thumb_MCP_AA = [12,-7]\n",
    "\n",
    "Thumb_CMC_FE = [45,-20]\n",
    "Thumb_MCP_FE = [80 ,0]\n",
    "Thumb_IP_FE  = [90,-30]\n",
    "\n",
    "MCP_AA       = [15,8]\n",
    "PIP_AA       = [15,-15]\n",
    "MCP_FE       = [90,-40]\n",
    "PIP_FE       = [130,0]\n",
    "DIP_FE       = [90,-30]"
   ]
  },
  {
   "cell_type": "code",
   "execution_count": null,
   "metadata": {},
   "outputs": [],
   "source": [
    "\n",
    "    \n",
    "def redirectVector(vec1,vec2,axis,angle,constrain):\n",
    "    if (angle>0 and angle<=constrain[0]) or (angle<=0 and angle>= constrain[1]) :\n",
    "        return vec1\n",
    "    if (angle>0 and angle>constrain[0]):\n",
    "        angle = constrain[0]\n",
    "    elif (angle<=0 and angle<= constrain[1]) :\n",
    "        angle = constrain[1]\n",
    "\n",
    "    # n = np.cross(vec1,vec2)\n",
    "    # n/= np.linalg.norm(n)\n",
    "    # if np.dot(n,axis)<0:\n",
    "    #     n = -n\n",
    "    vec = vec2/np.linalg.norm(vec2) *np.linalg.norm(vec1)\n",
    "    coord = getCoord(np.array([0,0,0],vec1,vec2))\n",
    "    invCoord = np.linalg.inv(coord)\n",
    "    vec_ = np.matmul(vec,invCoord)\n",
    "    \n",
    "    rotateMatZ = np.eye(4)\n",
    "    rotateMatZ[:2,:2] = np.array([\n",
    "        [np.cos(rz),-np.sin(rz)],\n",
    "        [np.sin(rz),np.cos(rz)]\n",
    "    ])\n",
    "    \n",
    "    rotate=np.array()\n",
    "    \n",
    "    pass\n",
    "\n",
    "def constrainHand(landmark):\n",
    "    pass"
   ]
  },
  {
   "cell_type": "code",
   "execution_count": null,
   "metadata": {},
   "outputs": [],
   "source": []
  }
 ],
 "metadata": {
  "interpreter": {
   "hash": "ac20bcf7b5fdc55cedf539030cdd4ec172c3fd1b3c8ddeac8a1f659b58283dc9"
  },
  "kernelspec": {
   "display_name": "Python 3.8.8 64-bit ('base': conda)",
   "language": "python",
   "name": "python3"
  },
  "language_info": {
   "codemirror_mode": {
    "name": "ipython",
    "version": 3
   },
   "file_extension": ".py",
   "mimetype": "text/x-python",
   "name": "python",
   "nbconvert_exporter": "python",
   "pygments_lexer": "ipython3",
   "version": "3.8.8"
  },
  "orig_nbformat": 4
 },
 "nbformat": 4,
 "nbformat_minor": 2
}
